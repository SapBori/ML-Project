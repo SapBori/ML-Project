{
 "cells": [
  {
   "cell_type": "code",
   "execution_count": 1,
   "id": "17434758",
   "metadata": {},
   "outputs": [
    {
     "name": "stdout",
     "output_type": "stream",
     "text": [
      "^C\n"
     ]
    },
    {
     "data": {
      "text/plain": [
       "[]"
      ]
     },
     "execution_count": 1,
     "metadata": {},
     "output_type": "execute_result"
    }
   ],
   "source": [
    "!!pip install xgboost"
   ]
  },
  {
   "cell_type": "code",
   "execution_count": 2,
   "id": "94388cb1",
   "metadata": {
    "scrolled": true
   },
   "outputs": [],
   "source": [
    "import numpy as np\n",
    "import pandas as pd\n",
    "import matplotlib.pyplot as plt\n",
    "import seaborn as sns\n",
    "\n",
    "from sklearn.linear_model import LinearRegression, Ridge, Lasso\n",
    "from sklearn.linear_model import LogisticRegression\n",
    "#from sklearn.ensembme import Voting\n",
    "from sklearn.model_selection import train_test_split\n",
    "from sklearn.model_selection import cross_val_score\n",
    "from sklearn.model_selection import KFold\n",
    "from sklearn.model_selection import GridSearchCV\n",
    "\n",
    "from sklearn.ensemble import RandomForestRegressor\n",
    "from sklearn.ensemble import GradientBoostingRegressor\n",
    "from xgboost import XGBRegressor\n",
    "from sklearn.tree import DecisionTreeClassifier\n",
    "from sklearn.tree import DecisionTreeRegressor\n",
    "from sklearn.metrics import mean_squared_error, r2_score\n",
    "from sklearn.metrics import precision_score, recall_score\n",
    "from sklearn.metrics import confusion_matrix, accuracy_score\n",
    "from sklearn.preprocessing import PolynomialFeatures\n",
    "from sklearn.preprocessing import StandardScaler,MinMaxScaler\n",
    "\n",
    "from sklearn.decomposition import PCA\n",
    "from sklearn.discriminant_analysis import LinearDiscriminantAnalysis"
   ]
  },
  {
   "cell_type": "code",
   "execution_count": 3,
   "id": "0435f600",
   "metadata": {},
   "outputs": [
    {
     "name": "stdout",
     "output_type": "stream",
     "text": [
      "<class 'pandas.core.frame.DataFrame'>\n",
      "RangeIndex: 19237 entries, 0 to 19236\n",
      "Data columns (total 18 columns):\n",
      " #   Column            Non-Null Count  Dtype  \n",
      "---  ------            --------------  -----  \n",
      " 0   ID                19237 non-null  int64  \n",
      " 1   Price             19237 non-null  int64  \n",
      " 2   Levy              19237 non-null  object \n",
      " 3   Manufacturer      19237 non-null  object \n",
      " 4   Model             19237 non-null  object \n",
      " 5   Prod. year        19237 non-null  int64  \n",
      " 6   Category          19237 non-null  object \n",
      " 7   Leather interior  19237 non-null  object \n",
      " 8   Fuel type         19237 non-null  object \n",
      " 9   Engine volume     19237 non-null  object \n",
      " 10  Mileage           19237 non-null  object \n",
      " 11  Cylinders         19237 non-null  float64\n",
      " 12  Gear box type     19237 non-null  object \n",
      " 13  Drive wheels      19237 non-null  object \n",
      " 14  Doors             19237 non-null  object \n",
      " 15  Wheel             19237 non-null  object \n",
      " 16  Color             19237 non-null  object \n",
      " 17  Airbags           19237 non-null  int64  \n",
      "dtypes: float64(1), int64(4), object(13)\n",
      "memory usage: 2.6+ MB\n"
     ]
    }
   ],
   "source": [
    "cp = pd.read_csv('e:\\carpricepr.csv')\n",
    "cp.info()"
   ]
  },
  {
   "cell_type": "code",
   "execution_count": 4,
   "id": "93ba711f",
   "metadata": {
    "scrolled": true
   },
   "outputs": [],
   "source": [
    "cp.drop(['Model','Drive wheels','Leather interior',\n",
    "         'Manufacturer','Cylinders','Gear box type',\n",
    "         'Doors','Wheel','ID'],axis=1,inplace=True)"
   ]
  },
  {
   "cell_type": "code",
   "execution_count": 5,
   "id": "0715e0a5",
   "metadata": {},
   "outputs": [],
   "source": [
    "def evaluate(y_test, y_hat):\n",
    "    mse= mean_squared_error(y_test,y_hat)\n",
    "    rmse= np.sqrt(mean_squared_error(y_test,y_hat))\n",
    "    #print(confusion_matrix(y_test,y_hat))\n",
    "    #print(accuracy_score(y_test,y_hat))\n",
    "    #print(precision_score(y_test,y_hat))\n",
    "    r2 = r2_score(y_test,y_hat)\n",
    "    print(mse,rmse,r2)\n",
    "def test(model, X_train, X_test, y_train,y_test):\n",
    "    model.fit(X_train,y_train)\n",
    "    y_hat = model.predict(X_test)\n",
    "    #y_prob = model.predict_proba(X_test)[:, 1]\n",
    "    evaluate(y_test,y_hat)\n",
    "    \n",
    "lor = LogisticRegression(solver ='liblinear')\n",
    "lr = LinearRegression()"
   ]
  },
  {
   "cell_type": "code",
   "execution_count": 6,
   "id": "b757158b",
   "metadata": {},
   "outputs": [],
   "source": [
    "cp['Total Price'] = 0\n",
    "cp.replace('-',0,inplace=True)"
   ]
  },
  {
   "cell_type": "code",
   "execution_count": 7,
   "id": "fffa8c1c",
   "metadata": {},
   "outputs": [
    {
     "data": {
      "text/html": [
       "<div>\n",
       "<style scoped>\n",
       "    .dataframe tbody tr th:only-of-type {\n",
       "        vertical-align: middle;\n",
       "    }\n",
       "\n",
       "    .dataframe tbody tr th {\n",
       "        vertical-align: top;\n",
       "    }\n",
       "\n",
       "    .dataframe thead th {\n",
       "        text-align: right;\n",
       "    }\n",
       "</style>\n",
       "<table border=\"1\" class=\"dataframe\">\n",
       "  <thead>\n",
       "    <tr style=\"text-align: right;\">\n",
       "      <th></th>\n",
       "      <th>Price</th>\n",
       "      <th>Levy</th>\n",
       "      <th>Prod. year</th>\n",
       "      <th>Category</th>\n",
       "      <th>Fuel type</th>\n",
       "      <th>Engine volume</th>\n",
       "      <th>Mileage</th>\n",
       "      <th>Color</th>\n",
       "      <th>Airbags</th>\n",
       "      <th>Total Price</th>\n",
       "    </tr>\n",
       "  </thead>\n",
       "  <tbody>\n",
       "    <tr>\n",
       "      <th>0</th>\n",
       "      <td>13328</td>\n",
       "      <td>1399</td>\n",
       "      <td>2010</td>\n",
       "      <td>Jeep</td>\n",
       "      <td>Hybrid</td>\n",
       "      <td>3.5</td>\n",
       "      <td>186005 km</td>\n",
       "      <td>Silver</td>\n",
       "      <td>12</td>\n",
       "      <td>14727</td>\n",
       "    </tr>\n",
       "    <tr>\n",
       "      <th>1</th>\n",
       "      <td>16621</td>\n",
       "      <td>1018</td>\n",
       "      <td>2011</td>\n",
       "      <td>Jeep</td>\n",
       "      <td>Petrol</td>\n",
       "      <td>3</td>\n",
       "      <td>192000 km</td>\n",
       "      <td>Black</td>\n",
       "      <td>8</td>\n",
       "      <td>17639</td>\n",
       "    </tr>\n",
       "    <tr>\n",
       "      <th>2</th>\n",
       "      <td>8467</td>\n",
       "      <td>0</td>\n",
       "      <td>2006</td>\n",
       "      <td>Hatchback</td>\n",
       "      <td>Petrol</td>\n",
       "      <td>1.3</td>\n",
       "      <td>200000 km</td>\n",
       "      <td>Black</td>\n",
       "      <td>2</td>\n",
       "      <td>8467</td>\n",
       "    </tr>\n",
       "  </tbody>\n",
       "</table>\n",
       "</div>"
      ],
      "text/plain": [
       "   Price  Levy  Prod. year   Category Fuel type Engine volume    Mileage  \\\n",
       "0  13328  1399        2010       Jeep    Hybrid           3.5  186005 km   \n",
       "1  16621  1018        2011       Jeep    Petrol             3  192000 km   \n",
       "2   8467     0        2006  Hatchback    Petrol           1.3  200000 km   \n",
       "\n",
       "    Color  Airbags  Total Price  \n",
       "0  Silver       12        14727  \n",
       "1   Black        8        17639  \n",
       "2   Black        2         8467  "
      ]
     },
     "execution_count": 7,
     "metadata": {},
     "output_type": "execute_result"
    }
   ],
   "source": [
    "cp['Levy']= cp['Levy'].astype(int)\n",
    "cp['Total Price'] = cp['Price'] +cp['Levy']\n",
    "cp.head(3)"
   ]
  },
  {
   "cell_type": "code",
   "execution_count": 8,
   "id": "09512ac1",
   "metadata": {
    "scrolled": true
   },
   "outputs": [],
   "source": [
    "cp.drop('Category', axis =1 , inplace = True)\n",
    "\n",
    "#차량의 종류는 많기 때문에 삭제\n",
    "fuel ={'Hybrid':1 ,'Petrol':2,'Diesel':3, 'CNG':4, \"LPG\":5,\"Plug-in Hybrid\":6,\"Hydrogen\":7}\n",
    "Color = {'Black':0,'White':1,'Blue':2, 'Silver':3, 'Red':4, 'Grey':5, 'Green':6 , 'Beige':7,'Orange':8,'Sky blue':9,'Brown':10,\n",
    "         'Yellow':11,'Carnelian red':12,'Golden':13,'Purple':14,'Pink':15}\n",
    "## Fuel, Color로 분리\n",
    "cp['Mileage']= cp['Mileage'].str.split(\"km\").str.get(0)\n",
    "cp['Mileage']= cp['Mileage'].astype(int)\n",
    "cp['Engine volume'] = cp['Engine volume'].str.split(\"Turbo\").str.get(0)\n",
    "cp['Engine volume'] = cp['Engine volume'].astype(float)\n",
    "cp['Used.year']= 2022 - cp['Prod. year']\n",
    "## 거리수가 숫자 + km 문자열로 저장되어있어서, 분리후 숫자를 취함\n",
    "cp.drop(['Price','Levy','Prod. year'], axis=1, inplace = True)"
   ]
  },
  {
   "cell_type": "code",
   "execution_count": 9,
   "id": "3af1bf18",
   "metadata": {},
   "outputs": [
    {
     "data": {
      "text/html": [
       "<div>\n",
       "<style scoped>\n",
       "    .dataframe tbody tr th:only-of-type {\n",
       "        vertical-align: middle;\n",
       "    }\n",
       "\n",
       "    .dataframe tbody tr th {\n",
       "        vertical-align: top;\n",
       "    }\n",
       "\n",
       "    .dataframe thead th {\n",
       "        text-align: right;\n",
       "    }\n",
       "</style>\n",
       "<table border=\"1\" class=\"dataframe\">\n",
       "  <thead>\n",
       "    <tr style=\"text-align: right;\">\n",
       "      <th></th>\n",
       "      <th>Fuel type</th>\n",
       "      <th>Engine volume</th>\n",
       "      <th>Mileage</th>\n",
       "      <th>Color</th>\n",
       "      <th>Airbags</th>\n",
       "      <th>Total Price</th>\n",
       "      <th>Used.year</th>\n",
       "    </tr>\n",
       "  </thead>\n",
       "  <tbody>\n",
       "    <tr>\n",
       "      <th>0</th>\n",
       "      <td>Hybrid</td>\n",
       "      <td>3.5</td>\n",
       "      <td>186005</td>\n",
       "      <td>Silver</td>\n",
       "      <td>12</td>\n",
       "      <td>14727</td>\n",
       "      <td>12</td>\n",
       "    </tr>\n",
       "    <tr>\n",
       "      <th>1</th>\n",
       "      <td>Petrol</td>\n",
       "      <td>3.0</td>\n",
       "      <td>192000</td>\n",
       "      <td>Black</td>\n",
       "      <td>8</td>\n",
       "      <td>17639</td>\n",
       "      <td>11</td>\n",
       "    </tr>\n",
       "    <tr>\n",
       "      <th>2</th>\n",
       "      <td>Petrol</td>\n",
       "      <td>1.3</td>\n",
       "      <td>200000</td>\n",
       "      <td>Black</td>\n",
       "      <td>2</td>\n",
       "      <td>8467</td>\n",
       "      <td>16</td>\n",
       "    </tr>\n",
       "  </tbody>\n",
       "</table>\n",
       "</div>"
      ],
      "text/plain": [
       "  Fuel type  Engine volume  Mileage   Color  Airbags  Total Price  Used.year\n",
       "0    Hybrid            3.5   186005  Silver       12        14727         12\n",
       "1    Petrol            3.0   192000   Black        8        17639         11\n",
       "2    Petrol            1.3   200000   Black        2         8467         16"
      ]
     },
     "execution_count": 9,
     "metadata": {},
     "output_type": "execute_result"
    }
   ],
   "source": [
    "cp.head(3)"
   ]
  },
  {
   "cell_type": "code",
   "execution_count": 10,
   "id": "c499b984",
   "metadata": {},
   "outputs": [],
   "source": [
    "f = [] #fuel 리스트\n",
    "c = [] #color 리스트\n",
    "for i in range(0,len(cp['Fuel type'])):\n",
    "    f.append(fuel[cp['Fuel type'].iloc[i]])\n",
    "    c.append(Color[cp['Color'].iloc[i]])"
   ]
  },
  {
   "cell_type": "code",
   "execution_count": 11,
   "id": "fd66b01c",
   "metadata": {},
   "outputs": [],
   "source": [
    "cp['Fuel type'] = f\n",
    "cp['Color'] = c\n",
    "## 연료 사용을 사전 형식으로 매칭 시켜서 a 리스트에 저장 후 'Fuel type' 피쳐값을 갱신, 마찬가지로 color도 똑같이 적용"
   ]
  },
  {
   "cell_type": "code",
   "execution_count": 12,
   "id": "1282d85b",
   "metadata": {},
   "outputs": [
    {
     "data": {
      "text/html": [
       "<div>\n",
       "<style scoped>\n",
       "    .dataframe tbody tr th:only-of-type {\n",
       "        vertical-align: middle;\n",
       "    }\n",
       "\n",
       "    .dataframe tbody tr th {\n",
       "        vertical-align: top;\n",
       "    }\n",
       "\n",
       "    .dataframe thead th {\n",
       "        text-align: right;\n",
       "    }\n",
       "</style>\n",
       "<table border=\"1\" class=\"dataframe\">\n",
       "  <thead>\n",
       "    <tr style=\"text-align: right;\">\n",
       "      <th></th>\n",
       "      <th>Fuel type</th>\n",
       "      <th>Engine volume</th>\n",
       "      <th>Mileage</th>\n",
       "      <th>Color</th>\n",
       "      <th>Airbags</th>\n",
       "      <th>Total Price</th>\n",
       "      <th>Used.year</th>\n",
       "    </tr>\n",
       "  </thead>\n",
       "  <tbody>\n",
       "    <tr>\n",
       "      <th>0</th>\n",
       "      <td>1</td>\n",
       "      <td>3.5</td>\n",
       "      <td>186005</td>\n",
       "      <td>3</td>\n",
       "      <td>12</td>\n",
       "      <td>14727</td>\n",
       "      <td>12</td>\n",
       "    </tr>\n",
       "    <tr>\n",
       "      <th>1</th>\n",
       "      <td>2</td>\n",
       "      <td>3.0</td>\n",
       "      <td>192000</td>\n",
       "      <td>0</td>\n",
       "      <td>8</td>\n",
       "      <td>17639</td>\n",
       "      <td>11</td>\n",
       "    </tr>\n",
       "    <tr>\n",
       "      <th>2</th>\n",
       "      <td>2</td>\n",
       "      <td>1.3</td>\n",
       "      <td>200000</td>\n",
       "      <td>0</td>\n",
       "      <td>2</td>\n",
       "      <td>8467</td>\n",
       "      <td>16</td>\n",
       "    </tr>\n",
       "  </tbody>\n",
       "</table>\n",
       "</div>"
      ],
      "text/plain": [
       "   Fuel type  Engine volume  Mileage  Color  Airbags  Total Price  Used.year\n",
       "0          1            3.5   186005      3       12        14727         12\n",
       "1          2            3.0   192000      0        8        17639         11\n",
       "2          2            1.3   200000      0        2         8467         16"
      ]
     },
     "execution_count": 12,
     "metadata": {},
     "output_type": "execute_result"
    }
   ],
   "source": [
    "cp.head(3)"
   ]
  },
  {
   "cell_type": "code",
   "execution_count": 20,
   "id": "f9cb86ff",
   "metadata": {},
   "outputs": [],
   "source": [
    "std= StandardScaler()\n",
    "MaM = MinMaxScaler()\n",
    "poly= PolynomialFeatures(degree=7)\n",
    "y = cp['Total Price']\n",
    "X = cp.drop(['Total Price'], axis= 1 , inplace = False)\n",
    "X_train, X_test, y_train, y_test = train_test_split(X, y, test_size = 0.3)\n",
    "\n",
    "X_train= std.fit_transform(X_train)\n",
    "X_test = std.transform(X_test)\n"
   ]
  },
  {
   "cell_type": "code",
   "execution_count": 14,
   "id": "325a5279",
   "metadata": {},
   "outputs": [
    {
     "name": "stdout",
     "output_type": "stream",
     "text": [
      "294366675.2183137 17157.11733416525 0.05760409145007139\n",
      "[-3.85461049e+08 -3.19371005e+08 -5.25169786e+08 -3.26095603e+08\n",
      " -1.80058031e+11]\n",
      "[ 19633.16197822  17870.95423388  22916.58320851  18058.11736318\n",
      " 424332.45348186]\n",
      "100562.2540531288\n"
     ]
    }
   ],
   "source": [
    "lr.fit(X_train, y_train)\n",
    "lry_hat =lr.predict(X_test)\n",
    "evaluate(y_test,lry_hat)\n",
    "#test(lor, X_train,X_test,y_train, y_test)\n",
    "\n",
    "neg_mse_scores = cross_val_score(lr,X,y,scoring='neg_mean_squared_error',cv=5)\n",
    "rmse_scores = np.sqrt(-1*neg_mse_scores)\n",
    "avg_rmse= np.mean(rmse_scores)\n",
    "print(neg_mse_scores)\n",
    "print(rmse_scores)\n",
    "print(avg_rmse)"
   ]
  },
  {
   "cell_type": "code",
   "execution_count": 15,
   "id": "b19280ce",
   "metadata": {},
   "outputs": [
    {
     "name": "stdout",
     "output_type": "stream",
     "text": [
      "19852.819754920165\n",
      "[ 2949.58332532  2195.60821981  -306.9640903  -1208.731385\n",
      " -3900.91105919 -2775.30003944]\n"
     ]
    },
    {
     "data": {
      "text/plain": [
       "<BarContainer object of 6 artists>"
      ]
     },
     "execution_count": 15,
     "metadata": {},
     "output_type": "execute_result"
    },
    {
     "data": {
      "image/png": "[encoded data removed]",
      "text/plain": [
       "<Figure size 432x432 with 1 Axes>"
      ]
     },
     "metadata": {
      "needs_background": "light"
     },
     "output_type": "display_data"
    }
   ],
   "source": [
    "print(lr.intercept_)\n",
    "print(lr.coef_)\n",
    "lr_coeff = pd.Series(data=lr.coef_, index=X.columns)\n",
    "lr_coeff.sort_values(ascending=True)\n",
    "\n",
    "fig ,axs = plt.subplots(figsize =(6,6))\n",
    "axs.barh(X.columns,lr.coef_)"
   ]
  },
  {
   "cell_type": "code",
   "execution_count": 16,
   "id": "0e2ae09d",
   "metadata": {
    "scrolled": true
   },
   "outputs": [
    {
     "name": "stdout",
     "output_type": "stream",
     "text": [
      "294366067.6262825 17157.099627451094 0.057606036616737466\n",
      "[-3.85461952e+08 -3.19371742e+08 -5.25171666e+08 -3.26096366e+08\n",
      " -1.80058014e+11]\n",
      "[ 19633.18495558  17870.97485506  22916.62422467  18058.1385046\n",
      " 424332.43325768]\n",
      "100562.2711595172\n"
     ]
    },
    {
     "data": {
      "text/plain": [
       "Airbags         -3898.190966\n",
       "Used.year       -2773.090831\n",
       "Color           -1208.299803\n",
       "Mileage          -306.906636\n",
       "Engine volume    2193.923623\n",
       "Fuel type        2948.379485\n",
       "dtype: float64"
      ]
     },
     "execution_count": 16,
     "metadata": {},
     "output_type": "execute_result"
    }
   ],
   "source": [
    "ridge = Ridge(alpha=7)\n",
    "test(ridge, X_train, X_test, y_train, y_test)\n",
    "ridge_coef=pd.DataFrame(data=ridge.coef_,index=X.columns) \n",
    "rneg_mse_scores = cross_val_score(ridge,X,y,scoring='neg_mean_squared_error',cv=5)\n",
    "rrmse_scores = np.sqrt(-1*rneg_mse_scores)\n",
    "ravg_rmse= np.mean(rrmse_scores)\n",
    "print(rneg_mse_scores)\n",
    "print(rrmse_scores)\n",
    "print(ravg_rmse)\n",
    "ridge_coeff = pd.Series(data=ridge.coef_, index=X.columns)\n",
    "ridge_coeff.sort_values(ascending=True)"
   ]
  },
  {
   "cell_type": "code",
   "execution_count": 17,
   "id": "aaae474f",
   "metadata": {},
   "outputs": [
    {
     "data": {
      "text/plain": [
       "<BarContainer object of 6 artists>"
      ]
     },
     "execution_count": 17,
     "metadata": {},
     "output_type": "execute_result"
    },
    {
     "data": {
      "image/png": "[encoded data removed]",
      "text/plain": [
       "<Figure size 432x432 with 1 Axes>"
      ]
     },
     "metadata": {
      "needs_background": "light"
     },
     "output_type": "display_data"
    }
   ],
   "source": [
    "fig ,axs = plt.subplots(figsize =(6,6))\n",
    "axs.barh(X.columns,ridge.coef_)"
   ]
  },
  {
   "cell_type": "code",
   "execution_count": 18,
   "id": "99cd7106",
   "metadata": {},
   "outputs": [
    {
     "name": "stdout",
     "output_type": "stream",
     "text": [
      "294393717.72676635 17157.90540033271 0.05751751660492699\n",
      "[-3.85605265e+08 -3.19461409e+08 -5.25448024e+08 -3.26140319e+08\n",
      " -1.80057610e+11]\n",
      "[ 19636.8343865   17873.48340009  22922.65306691  18059.35543151\n",
      " 424331.95768929]\n",
      "100564.85679486036\n"
     ]
    },
    {
     "data": {
      "text/plain": [
       "Airbags         -3754.153444\n",
       "Used.year       -2643.055070\n",
       "Color           -1121.402658\n",
       "Mileage          -212.343820\n",
       "Engine volume    2074.640606\n",
       "Fuel type        2861.704317\n",
       "dtype: float64"
      ]
     },
     "execution_count": 18,
     "metadata": {},
     "output_type": "execute_result"
    }
   ],
   "source": [
    "lasso = Lasso(alpha=100)\n",
    "test(lasso, X_train, X_test, y_train, y_test)\n",
    "\n",
    "lneg_mse_scores = cross_val_score(lasso,X,y,scoring='neg_mean_squared_error',cv=5)\n",
    "lrmse_scores = np.sqrt(-1*lneg_mse_scores)\n",
    "lavg_rmse= np.mean(lrmse_scores)\n",
    "print(lneg_mse_scores)\n",
    "print(lrmse_scores)\n",
    "print(lavg_rmse)\n",
    "\n",
    "lasso_coeff = pd.Series(data=lasso.coef_, index=X.columns)\n",
    "lasso_coeff.sort_values(ascending=True)\n"
   ]
  },
  {
   "cell_type": "code",
   "execution_count": 19,
   "id": "1c68064d",
   "metadata": {},
   "outputs": [
    {
     "data": {
      "text/plain": [
       "<BarContainer object of 6 artists>"
      ]
     },
     "execution_count": 19,
     "metadata": {},
     "output_type": "execute_result"
    },
    {
     "data": {
      "image/png": "[encoded data removed]",
      "text/plain": [
       "<Figure size 432x432 with 1 Axes>"
      ]
     },
     "metadata": {
      "needs_background": "light"
     },
     "output_type": "display_data"
    }
   ],
   "source": [
    "fig ,axs = plt.subplots(figsize =(6,6))\n",
    "axs.barh(X.columns,lasso.coef_)"
   ]
  },
  {
   "cell_type": "code",
   "execution_count": 351,
   "id": "51605a05",
   "metadata": {},
   "outputs": [
    {
     "name": "stderr",
     "output_type": "stream",
     "text": [
      "C:\\Users\\User\\AppData\\Local\\Temp\\ipykernel_16136\\3471781840.py:6: UserWarning: Pandas doesn't allow columns to be created via a new attribute name - see https://pandas.pydata.org/pandas-docs/stable/indexing.html#attribute-access\n",
      "  cp.data = cp.iloc[:,:]\n"
     ]
    },
    {
     "data": {
      "text/html": [
       "<div>\n",
       "<style scoped>\n",
       "    .dataframe tbody tr th:only-of-type {\n",
       "        vertical-align: middle;\n",
       "    }\n",
       "\n",
       "    .dataframe tbody tr th {\n",
       "        vertical-align: top;\n",
       "    }\n",
       "\n",
       "    .dataframe thead th {\n",
       "        text-align: right;\n",
       "    }\n",
       "</style>\n",
       "<table border=\"1\" class=\"dataframe\">\n",
       "  <thead>\n",
       "    <tr style=\"text-align: right;\">\n",
       "      <th></th>\n",
       "      <th>Fuel type</th>\n",
       "      <th>Engine volume</th>\n",
       "      <th>Mileage</th>\n",
       "      <th>Color</th>\n",
       "      <th>Airbags</th>\n",
       "      <th>Total Price</th>\n",
       "      <th>Used.year</th>\n",
       "    </tr>\n",
       "  </thead>\n",
       "  <tbody>\n",
       "    <tr>\n",
       "      <th>0</th>\n",
       "      <td>1</td>\n",
       "      <td>3.5</td>\n",
       "      <td>186005</td>\n",
       "      <td>3</td>\n",
       "      <td>12</td>\n",
       "      <td>14727</td>\n",
       "      <td>12</td>\n",
       "    </tr>\n",
       "    <tr>\n",
       "      <th>1</th>\n",
       "      <td>2</td>\n",
       "      <td>3.0</td>\n",
       "      <td>192000</td>\n",
       "      <td>0</td>\n",
       "      <td>8</td>\n",
       "      <td>17639</td>\n",
       "      <td>11</td>\n",
       "    </tr>\n",
       "    <tr>\n",
       "      <th>2</th>\n",
       "      <td>2</td>\n",
       "      <td>1.3</td>\n",
       "      <td>200000</td>\n",
       "      <td>0</td>\n",
       "      <td>2</td>\n",
       "      <td>8467</td>\n",
       "      <td>16</td>\n",
       "    </tr>\n",
       "    <tr>\n",
       "      <th>3</th>\n",
       "      <td>1</td>\n",
       "      <td>2.5</td>\n",
       "      <td>168966</td>\n",
       "      <td>1</td>\n",
       "      <td>0</td>\n",
       "      <td>4469</td>\n",
       "      <td>11</td>\n",
       "    </tr>\n",
       "    <tr>\n",
       "      <th>4</th>\n",
       "      <td>2</td>\n",
       "      <td>1.3</td>\n",
       "      <td>91901</td>\n",
       "      <td>3</td>\n",
       "      <td>4</td>\n",
       "      <td>12172</td>\n",
       "      <td>8</td>\n",
       "    </tr>\n",
       "    <tr>\n",
       "      <th>...</th>\n",
       "      <td>...</td>\n",
       "      <td>...</td>\n",
       "      <td>...</td>\n",
       "      <td>...</td>\n",
       "      <td>...</td>\n",
       "      <td>...</td>\n",
       "      <td>...</td>\n",
       "    </tr>\n",
       "    <tr>\n",
       "      <th>19232</th>\n",
       "      <td>4</td>\n",
       "      <td>2.0</td>\n",
       "      <td>300000</td>\n",
       "      <td>3</td>\n",
       "      <td>5</td>\n",
       "      <td>8467</td>\n",
       "      <td>23</td>\n",
       "    </tr>\n",
       "    <tr>\n",
       "      <th>19233</th>\n",
       "      <td>2</td>\n",
       "      <td>2.4</td>\n",
       "      <td>161600</td>\n",
       "      <td>4</td>\n",
       "      <td>8</td>\n",
       "      <td>16512</td>\n",
       "      <td>11</td>\n",
       "    </tr>\n",
       "    <tr>\n",
       "      <th>19234</th>\n",
       "      <td>3</td>\n",
       "      <td>2.0</td>\n",
       "      <td>116365</td>\n",
       "      <td>5</td>\n",
       "      <td>4</td>\n",
       "      <td>26944</td>\n",
       "      <td>12</td>\n",
       "    </tr>\n",
       "    <tr>\n",
       "      <th>19235</th>\n",
       "      <td>3</td>\n",
       "      <td>2.0</td>\n",
       "      <td>51258</td>\n",
       "      <td>0</td>\n",
       "      <td>4</td>\n",
       "      <td>6619</td>\n",
       "      <td>15</td>\n",
       "    </tr>\n",
       "    <tr>\n",
       "      <th>19236</th>\n",
       "      <td>1</td>\n",
       "      <td>2.4</td>\n",
       "      <td>186923</td>\n",
       "      <td>1</td>\n",
       "      <td>12</td>\n",
       "      <td>1223</td>\n",
       "      <td>10</td>\n",
       "    </tr>\n",
       "  </tbody>\n",
       "</table>\n",
       "<p>19237 rows × 7 columns</p>\n",
       "</div>"
      ],
      "text/plain": [
       "       Fuel type  Engine volume  Mileage  Color  Airbags  Total Price  \\\n",
       "0              1            3.5   186005      3       12        14727   \n",
       "1              2            3.0   192000      0        8        17639   \n",
       "2              2            1.3   200000      0        2         8467   \n",
       "3              1            2.5   168966      1        0         4469   \n",
       "4              2            1.3    91901      3        4        12172   \n",
       "...          ...            ...      ...    ...      ...          ...   \n",
       "19232          4            2.0   300000      3        5         8467   \n",
       "19233          2            2.4   161600      4        8        16512   \n",
       "19234          3            2.0   116365      5        4        26944   \n",
       "19235          3            2.0    51258      0        4         6619   \n",
       "19236          1            2.4   186923      1       12         1223   \n",
       "\n",
       "       Used.year  \n",
       "0             12  \n",
       "1             11  \n",
       "2             16  \n",
       "3             11  \n",
       "4              8  \n",
       "...          ...  \n",
       "19232         23  \n",
       "19233         11  \n",
       "19234         12  \n",
       "19235         15  \n",
       "19236         10  \n",
       "\n",
       "[19237 rows x 7 columns]"
      ]
     },
     "execution_count": 351,
     "metadata": {},
     "output_type": "execute_result"
    }
   ],
   "source": [
    "## Lr,릿지,라쏘로는 가격에 영향을 받는 요소를 알수 없었다.\n",
    "# PCA로 했을때 구별가능한 Fuel Type를 이용해서 가격의 분포를 알아보자\n",
    "\n",
    "\n",
    "cp_feature_names = ['Color','Fuel type','Used.year','Total Price','Airbags','Mileage','Engine volume']\n",
    "cp.data = cp.iloc[:,:]\n",
    "cp.data"
   ]
  },
  {
   "cell_type": "code",
   "execution_count": 352,
   "id": "fc395d69",
   "metadata": {
    "scrolled": true
   },
   "outputs": [
    {
     "data": {
      "image/png": "[encoded data removed]",
      "text/plain": [
       "<Figure size 432x288 with 1 Axes>"
      ]
     },
     "metadata": {
      "needs_background": "light"
     },
     "output_type": "display_data"
    }
   ],
   "source": [
    "cp_co = pd.DataFrame(cp.data, columns=cp_feature_names)\n",
    "fuel_names=['Hybrid' ,'Petrol','Diesel', 'CNG', \"LPG\",\"Plug-in Hybrid\",\"Hydrogen\"]\n",
    "markers = ['^','o','s', '.' , ',','*','_']\n",
    "for i, marker in enumerate(markers):\n",
    "    x= cp_co[cp_co['Fuel type']==i].iloc[:,3] # Fuel type\n",
    "    y= cp_co[cp_co['Fuel type']==i].iloc[:,2] # Price\n",
    "    plt.scatter(x,y,marker=marker,label=fuel_names[i])\n",
    "plt.legend()\n",
    "plt.show()"
   ]
  },
  {
   "cell_type": "code",
   "execution_count": 354,
   "id": "14c710de",
   "metadata": {},
   "outputs": [
    {
     "data": {
      "text/plain": [
       "0        14727\n",
       "1        17639\n",
       "2         8467\n",
       "3         4469\n",
       "4        12172\n",
       "         ...  \n",
       "19232     8467\n",
       "19233    16512\n",
       "19234    26944\n",
       "19235     6619\n",
       "19236     1223\n",
       "Name: Total Price, Length: 19237, dtype: int64"
      ]
     },
     "execution_count": 354,
     "metadata": {},
     "output_type": "execute_result"
    }
   ],
   "source": [
    "cp_co.iloc[:,3] # Total Price 확인"
   ]
  },
  {
   "cell_type": "code",
   "execution_count": 355,
   "id": "913a11be",
   "metadata": {},
   "outputs": [
    {
     "data": {
      "text/html": [
       "<div>\n",
       "<style scoped>\n",
       "    .dataframe tbody tr th:only-of-type {\n",
       "        vertical-align: middle;\n",
       "    }\n",
       "\n",
       "    .dataframe tbody tr th {\n",
       "        vertical-align: top;\n",
       "    }\n",
       "\n",
       "    .dataframe thead th {\n",
       "        text-align: right;\n",
       "    }\n",
       "</style>\n",
       "<table border=\"1\" class=\"dataframe\">\n",
       "  <thead>\n",
       "    <tr style=\"text-align: right;\">\n",
       "      <th></th>\n",
       "      <th>comp1</th>\n",
       "      <th>comp2</th>\n",
       "      <th>Fuel type</th>\n",
       "    </tr>\n",
       "  </thead>\n",
       "  <tbody>\n",
       "    <tr>\n",
       "      <th>0</th>\n",
       "      <td>1.305379</td>\n",
       "      <td>0.774450</td>\n",
       "      <td>1</td>\n",
       "    </tr>\n",
       "    <tr>\n",
       "      <th>1</th>\n",
       "      <td>0.896665</td>\n",
       "      <td>0.643430</td>\n",
       "      <td>2</td>\n",
       "    </tr>\n",
       "    <tr>\n",
       "      <th>2</th>\n",
       "      <td>-1.341117</td>\n",
       "      <td>0.071930</td>\n",
       "      <td>2</td>\n",
       "    </tr>\n",
       "    <tr>\n",
       "      <th>3</th>\n",
       "      <td>-0.698523</td>\n",
       "      <td>0.269610</td>\n",
       "      <td>1</td>\n",
       "    </tr>\n",
       "    <tr>\n",
       "      <th>4</th>\n",
       "      <td>-0.726708</td>\n",
       "      <td>-1.018328</td>\n",
       "      <td>2</td>\n",
       "    </tr>\n",
       "  </tbody>\n",
       "</table>\n",
       "</div>"
      ],
      "text/plain": [
       "      comp1     comp2  Fuel type\n",
       "0  1.305379  0.774450          1\n",
       "1  0.896665  0.643430          2\n",
       "2 -1.341117  0.071930          2\n",
       "3 -0.698523  0.269610          1\n",
       "4 -0.726708 -1.018328          2"
      ]
     },
     "execution_count": 355,
     "metadata": {},
     "output_type": "execute_result"
    }
   ],
   "source": [
    "pca= PCA(n_components=2)\n",
    "cp_scaled= std.fit_transform(cp.iloc[:,1:])\n",
    "cp_pca = pca.fit_transform(cp_scaled)\n",
    "cp_df= pd.DataFrame(cp_pca,columns=['comp1','comp2'])\n",
    "cp_df['Fuel type'] = cp['Fuel type']\n",
    "cp_df.head()"
   ]
  },
  {
   "cell_type": "code",
   "execution_count": 356,
   "id": "fb73bbe5",
   "metadata": {},
   "outputs": [
    {
     "data": {
      "image/png": "[encoded data removed]",
      "text/plain": [
       "<Figure size 432x288 with 1 Axes>"
      ]
     },
     "metadata": {
      "needs_background": "light"
     },
     "output_type": "display_data"
    }
   ],
   "source": [
    "for i, marker in enumerate(markers):\n",
    "    x= cp_df[cp_df['Fuel type']==i].iloc[:,0]\n",
    "    y= cp_df[cp_df['Fuel type']==i].iloc[:,1]\n",
    "    plt.scatter(x,y, marker=marker, label=fuel_names[i])\n",
    "plt.legend()\n",
    "plt.show()"
   ]
  },
  {
   "cell_type": "code",
   "execution_count": 357,
   "id": "dd4c1543",
   "metadata": {},
   "outputs": [],
   "source": [
    "rf_X = X_train\n",
    "rf_y = y_train"
   ]
  },
  {
   "cell_type": "code",
   "execution_count": 366,
   "id": "5f9a95f7",
   "metadata": {},
   "outputs": [
    {
     "name": "stdout",
     "output_type": "stream",
     "text": [
      "[-2.57038089e+11 -1.02070282e+11 -1.53069419e+10 -1.70221399e+09\n",
      " -1.49080059e+08]\n",
      "[506989.23967199 319484.39997964 123721.22644651  41257.89608581\n",
      "  12209.83453013]\n",
      "200732.51934281585\n"
     ]
    }
   ],
   "source": [
    "rf = RandomForestRegressor(n_estimators=1000)\n",
    "rf.fit(rf_X,rf_y)\n",
    "neg_mse_scores = cross_val_score(rf,rf_X,rf_y, scoring= \"neg_mean_squared_error\",cv=5)\n",
    "rf_rmse=np.sqrt(-1*neg_mse_scores)\n",
    "rf_avg=np.mean(rf_rmse)\n",
    "\n",
    "print(neg_mse_scores)\n",
    "print(rf_rmse)\n",
    "print(rf_avg)"
   ]
  },
  {
   "cell_type": "code",
   "execution_count": 411,
   "id": "8589d2e6",
   "metadata": {},
   "outputs": [
    {
     "name": "stdout",
     "output_type": "stream",
     "text": [
      "       variables importance\n",
      "1  Engine volume   0.332317\n",
      "5      Used.year   0.233039\n",
      "2        Mileage   0.139263\n",
      "0      Fuel type   0.110501\n",
      "4        Airbags   0.104215\n",
      "3          Color   0.080665\n"
     ]
    }
   ],
   "source": [
    "rf_y_train_pred = rf.predict(X_train)\n",
    "rf_y_test_pred = rf.predict(X_test)\n",
    "\n",
    "rf_imp = rf.feature_importances_\n",
    "rf_imp = pd.DataFrame([X.columns, rf_imp]).T\n",
    "rf_imp.columns = ['variables','importance']\n",
    "sorted_rf_idx = np.argsort(rf_imp['importance'])[::-1]\n",
    "rf_imp = rf_imp.iloc[sorted_rf_idx,:]\n",
    "print(rf_imp[rf_imp['importance']>0.000005])"
   ]
  },
  {
   "cell_type": "code",
   "execution_count": 333,
   "id": "c8a14879",
   "metadata": {},
   "outputs": [
    {
     "data": {
      "image/png": "[encoded data removed]",
      "text/plain": [
       "<Figure size 504x504 with 1 Axes>"
      ]
     },
     "metadata": {
      "needs_background": "light"
     },
     "output_type": "display_data"
    }
   ],
   "source": [
    "fig, ax= plt.subplots(figsize=(7,7))\n",
    "sns.barplot(x='variables',y='importance',data=rf_imp,ax=ax)\n",
    "plt.setp(ax.get_xticklabels(),rotation=90)\n",
    "plt.show(fig)"
   ]
  },
  {
   "cell_type": "code",
   "execution_count": 416,
   "id": "2e7d207c",
   "metadata": {},
   "outputs": [
    {
     "data": {
      "image/png": "[encoded data removed]",
      "text/plain": [
       "<Figure size 432x288 with 1 Axes>"
      ]
     },
     "metadata": {
      "needs_background": "light"
     },
     "output_type": "display_data"
    }
   ],
   "source": [
    "plt.scatter(y_test,rf_y_test_pred)\n",
    "plt.plot(y_test,y_test,'r-')\n",
    "plt.xlabel('actual')\n",
    "plt.ylabel('predicted')\n",
    "plt.show()"
   ]
  },
  {
   "cell_type": "code",
   "execution_count": 413,
   "id": "31e98cbb",
   "metadata": {
    "scrolled": true
   },
   "outputs": [
    {
     "data": {
      "text/plain": [
       "DecisionTreeRegressor(max_depth=15, random_state=1500)"
      ]
     },
     "execution_count": 413,
     "metadata": {},
     "output_type": "execute_result"
    }
   ],
   "source": [
    "clf = DecisionTreeRegressor(criterion='squared_error',max_depth=15, random_state=1500)\n",
    "clf.fit(X_train,y_train)"
   ]
  },
  {
   "cell_type": "code",
   "execution_count": 414,
   "id": "af21e536",
   "metadata": {},
   "outputs": [
    {
     "name": "stdout",
     "output_type": "stream",
     "text": [
      "       variables importance\n",
      "5      Used.year     0.4992\n",
      "0      Fuel type   0.407497\n",
      "4        Airbags   0.080862\n",
      "2        Mileage   0.010894\n",
      "1  Engine volume    0.00123\n",
      "3          Color   0.000316\n"
     ]
    }
   ],
   "source": [
    "clf_y_train_pred = clf.predict(X_train)\n",
    "clf_y_test_pred = clf.predict(X_test)\n",
    "\n",
    "clf_imp = clf.feature_importances_\n",
    "clf_imp = pd.DataFrame([X.columns, clf_imp]).T\n",
    "clf_imp.columns = ['variables','importance']\n",
    "sorted_clf_idx = np.argsort(clf_imp['importance'])[::-1]\n",
    "clf_imp = clf_imp.iloc[sorted_clf_idx,:]\n",
    "print(clf_imp[clf_imp['importance']>0.000005])"
   ]
  },
  {
   "cell_type": "code",
   "execution_count": 415,
   "id": "b9f94cbf",
   "metadata": {},
   "outputs": [
    {
     "data": {
      "image/png": "[encoded data removed]",
      "text/plain": [
       "<Figure size 504x504 with 1 Axes>"
      ]
     },
     "metadata": {
      "needs_background": "light"
     },
     "output_type": "display_data"
    }
   ],
   "source": [
    "fig, ax= plt.subplots(figsize=(7,7))\n",
    "sns.barplot(x='variables',y='importance',data=clf_imp,ax=ax)\n",
    "plt.setp(ax.get_xticklabels(),rotation=90)\n",
    "plt.show(fig)"
   ]
  },
  {
   "cell_type": "code",
   "execution_count": 362,
   "id": "46ee13fb",
   "metadata": {},
   "outputs": [
    {
     "data": {
      "image/png": "[encoded data removed]",
      "text/plain": [
       "<Figure size 432x288 with 1 Axes>"
      ]
     },
     "metadata": {
      "needs_background": "light"
     },
     "output_type": "display_data"
    }
   ],
   "source": [
    "plt.scatter(y_test,clf_y_test_pred)\n",
    "plt.plot(y_test,y_test,'r-')\n",
    "plt.xlabel('actual')\n",
    "plt.ylabel('predicted')\n",
    "plt.show()"
   ]
  },
  {
   "cell_type": "code",
   "execution_count": 418,
   "id": "72add4a2",
   "metadata": {},
   "outputs": [
    {
     "data": {
      "text/plain": [
       "<AxesSubplot:>"
      ]
     },
     "execution_count": 418,
     "metadata": {},
     "output_type": "execute_result"
    },
    {
     "data": {
      "image/png": "[encoded data removed]",
      "text/plain": [
       "<Figure size 432x288 with 1 Axes>"
      ]
     },
     "metadata": {
      "needs_background": "light"
     },
     "output_type": "display_data"
    }
   ],
   "source": [
    "# Log Scale로 분석\n",
    "y_log= np.log1p(cp['Total Price'])\n",
    "y_log.hist(bins='auto')"
   ]
  },
  {
   "cell_type": "code",
   "execution_count": 420,
   "id": "8e77d799",
   "metadata": {},
   "outputs": [
    {
     "name": "stdout",
     "output_type": "stream",
     "text": [
      "338578488.990494 18400.502411360783 -0.05620200981721357\n"
     ]
    }
   ],
   "source": [
    "X_train, X_test, y_train,y_test= train_test_split(X,y_log,test_size=0.3)\n",
    "lr.fit(X_train, y_train)\n",
    "# Log Scale 선형예측 학습\n",
    "y_hat = lr.predict(X_test)\n",
    "\n",
    "y_test_exp = np.expm1(y_test)\n",
    "y_hat_exp = np.expm1(y_hat)\n",
    "evaluate(y_test_exp,y_hat_exp)"
   ]
  },
  {
   "cell_type": "code",
   "execution_count": 421,
   "id": "622e010c",
   "metadata": {},
   "outputs": [
    {
     "data": {
      "text/plain": [
       "<BarContainer object of 6 artists>"
      ]
     },
     "execution_count": 421,
     "metadata": {},
     "output_type": "execute_result"
    },
    {
     "data": {
      "image/png": "[encoded data removed]",
      "text/plain": [
       "<Figure size 432x288 with 1 Axes>"
      ]
     },
     "metadata": {
      "needs_background": "light"
     },
     "output_type": "display_data"
    }
   ],
   "source": [
    "coef= pd.DataFrame(data=log_lr.coef_,columns=['value'])\n",
    "coef['name']=X.columns\n",
    "sorted= coef.sort_values(by='value',ascending=False)\n",
    "plt.barh(sorted['name'],sorted['value'])"
   ]
  },
  {
   "cell_type": "code",
   "execution_count": 24,
   "id": "8d8e719c",
   "metadata": {},
   "outputs": [
    {
     "ename": "AttributeError",
     "evalue": "'PolynomialFeatures' object has no attribute 'transForm'",
     "output_type": "error",
     "traceback": [
      "\u001b[1;31m---------------------------------------------------------------------------\u001b[0m",
      "\u001b[1;31mAttributeError\u001b[0m                            Traceback (most recent call last)",
      "Input \u001b[1;32mIn [24]\u001b[0m, in \u001b[0;36m<cell line: 2>\u001b[1;34m()\u001b[0m\n\u001b[0;32m      1\u001b[0m X_poly \u001b[38;5;241m=\u001b[39m poly\u001b[38;5;241m.\u001b[39mfit(X_train)\n\u001b[1;32m----> 2\u001b[0m y_poly \u001b[38;5;241m=\u001b[39m \u001b[43mpoly\u001b[49m\u001b[38;5;241;43m.\u001b[39;49m\u001b[43mtransForm\u001b[49m(y_train)\n",
      "\u001b[1;31mAttributeError\u001b[0m: 'PolynomialFeatures' object has no attribute 'transForm'"
     ]
    }
   ],
   "source": [
    "X_poly = poly.fit(X_train)\n"
   ]
  },
  {
   "cell_type": "code",
   "execution_count": null,
   "id": "5364b017",
   "metadata": {},
   "outputs": [],
   "source": []
  }
 ],
 "metadata": {
  "kernelspec": {
   "display_name": "Python 3 (ipykernel)",
   "language": "python",
   "name": "python3"
  },
  "language_info": {
   "codemirror_mode": {
    "name": "ipython",
    "version": 3
   },
   "file_extension": ".py",
   "mimetype": "text/x-python",
   "name": "python",
   "nbconvert_exporter": "python",
   "pygments_lexer": "ipython3",
   "version": "3.9.13"
  }
 },
 "nbformat": 4,
 "nbformat_minor": 5
}
